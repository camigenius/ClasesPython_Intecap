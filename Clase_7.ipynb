{
  "nbformat": 4,
  "nbformat_minor": 0,
  "metadata": {
    "colab": {
      "provenance": []
    },
    "kernelspec": {
      "name": "python3",
      "display_name": "Python 3"
    },
    "language_info": {
      "name": "python"
    }
  },
  "cells": [
    {
      "cell_type": "markdown",
      "source": [
        "# 🛠️ FUNCIONES"
      ],
      "metadata": {
        "id": "uYolQnlyF33K"
      }
    },
    {
      "cell_type": "markdown",
      "source": [
        "\n",
        "\n",
        "1.   FUNCIÓN BÁSICA\n",
        "\n"
      ],
      "metadata": {
        "id": "tC1yyi4jznjE"
      }
    },
    {
      "cell_type": "code",
      "source": [
        "def saludo():\n",
        "    print(\"Hola, mundo!\")\n",
        "\n",
        "# Llamamos a la función\n",
        "valor_devuelto = saludo()\n",
        "\n",
        "print(valor_devuelto)  # Esto imprimirá \"None\"\n"
      ],
      "metadata": {
        "colab": {
          "base_uri": "https://localhost:8080/"
        },
        "id": "ADBxKoVGQYLA",
        "outputId": "9b913f03-39c8-4849-c4b7-0a0a5a4b798a"
      },
      "execution_count": null,
      "outputs": [
        {
          "output_type": "stream",
          "name": "stdout",
          "text": [
            "Hola, mundo!\n",
            "None\n"
          ]
        }
      ]
    },
    {
      "cell_type": "code",
      "source": [
        "# no estoy definiendo ningun parametro\n",
        "def my_print():\n",
        "  print('This is my print')\n",
        "  print('This is my print')"
      ],
      "metadata": {
        "id": "44aJpo7QITlk"
      },
      "execution_count": null,
      "outputs": []
    },
    {
      "cell_type": "code",
      "source": [
        "my_print()"
      ],
      "metadata": {
        "colab": {
          "base_uri": "https://localhost:8080/"
        },
        "id": "HbW1RnerIbEJ",
        "outputId": "7a38445b-5f48-4689-d2a8-998bbeaa00c7"
      },
      "execution_count": null,
      "outputs": [
        {
          "output_type": "stream",
          "name": "stdout",
          "text": [
            "This is my print\n",
            "This is my print\n"
          ]
        }
      ]
    },
    {
      "cell_type": "code",
      "source": [
        "# definiendo un argumento de la funcion\n",
        "def my_print(text):\n",
        "  print('This is my text :',text)\n"
      ],
      "metadata": {
        "id": "HtycgMSEJq6g"
      },
      "execution_count": null,
      "outputs": []
    },
    {
      "cell_type": "code",
      "source": [
        "my_print(\"hola\")"
      ],
      "metadata": {
        "colab": {
          "base_uri": "https://localhost:8080/"
        },
        "id": "SDla603eKXA3",
        "outputId": "f7426b34-276c-4edd-dd08-3bd9d0b2e533"
      },
      "execution_count": null,
      "outputs": [
        {
          "output_type": "stream",
          "name": "stdout",
          "text": [
            "This is my text : hola\n"
          ]
        }
      ]
    },
    {
      "cell_type": "markdown",
      "source": [
        "2. OPERACIONES UN POCO MÁS COMPLEJAS DENTRO DE UNA FUNCIÓN"
      ],
      "metadata": {
        "id": "ylrl3LiBzWvQ"
      }
    },
    {
      "cell_type": "code",
      "source": [
        "sum = 0\n",
        "for x in range(1,10):\n",
        "  sum += x\n",
        "  #print(x)\n",
        "print(sum)"
      ],
      "metadata": {
        "colab": {
          "base_uri": "https://localhost:8080/"
        },
        "id": "NO6Wc6RgiRHT",
        "outputId": "2a8800a1-e4b6-4c95-a872-058469584302"
      },
      "execution_count": null,
      "outputs": [
        {
          "output_type": "stream",
          "name": "stdout",
          "text": [
            "45\n"
          ]
        }
      ]
    },
    {
      "cell_type": "code",
      "source": [
        "# operaciones un poco mas complejas dentro de una funcion\n",
        "# puedo asignar el valor de un argumento de la funciom\n",
        "def suma_range(inicial,final,paso= 2):\n",
        "  sum = 0\n",
        "  for x in range(inicial,final,paso):\n",
        "    sum += x\n",
        "    print(sum)\n"
      ],
      "metadata": {
        "id": "6AQcPQACikQ3"
      },
      "execution_count": null,
      "outputs": []
    },
    {
      "cell_type": "code",
      "source": [
        "print(list(range(1,10,2)))"
      ],
      "metadata": {
        "colab": {
          "base_uri": "https://localhost:8080/"
        },
        "id": "0vz-avRyjqfQ",
        "outputId": "896649b8-6f9b-4f46-aa86-062613874dbf"
      },
      "execution_count": null,
      "outputs": [
        {
          "output_type": "stream",
          "name": "stdout",
          "text": [
            "[1, 3, 5, 7, 9]\n"
          ]
        }
      ]
    },
    {
      "cell_type": "code",
      "source": [
        "suma_range(1,10,3)"
      ],
      "metadata": {
        "colab": {
          "base_uri": "https://localhost:8080/"
        },
        "id": "At4RqYh8jOu_",
        "outputId": "af3ecfe7-3d70-454e-823f-ab0425daff9c"
      },
      "execution_count": null,
      "outputs": [
        {
          "output_type": "stream",
          "name": "stdout",
          "text": [
            "1\n",
            "5\n",
            "12\n"
          ]
        }
      ]
    },
    {
      "cell_type": "markdown",
      "source": [
        "3. UTILIZAR RETURN Y MULTIPLES RESULTADOS"
      ],
      "metadata": {
        "id": "dTmYN0K5oVV-"
      }
    },
    {
      "cell_type": "code",
      "source": [
        "a = 20\n",
        "b = 40\n",
        "\n",
        "def mi_suma(a,b):\n",
        "\n",
        "  # print(f\"Los valores Ingresados son {a} y {b}\")\n",
        "  if a > b :\n",
        "    resultado = a - b\n",
        "  else:\n",
        "        resultado = a + b\n",
        "\n",
        "  #print(a + b)\n",
        "  return a,b ,resultado"
      ],
      "metadata": {
        "id": "UUV-ckG2efuq"
      },
      "execution_count": null,
      "outputs": []
    },
    {
      "cell_type": "code",
      "source": [
        "variable = mi_suma(20,40)\n",
        "variable"
      ],
      "metadata": {
        "colab": {
          "base_uri": "https://localhost:8080/"
        },
        "id": "67stkbRPepGk",
        "outputId": "61d34caf-a862-41c0-84de-a4b69c356acd"
      },
      "execution_count": null,
      "outputs": [
        {
          "output_type": "execute_result",
          "data": {
            "text/plain": [
              "(20, 40, 60)"
            ]
          },
          "metadata": {},
          "execution_count": 229
        }
      ]
    },
    {
      "cell_type": "code",
      "source": [
        "a,b,c = variable\n",
        "print(a)"
      ],
      "metadata": {
        "colab": {
          "base_uri": "https://localhost:8080/"
        },
        "id": "W3beEeXEmV-I",
        "outputId": "a2a6448b-c7ef-463f-f07c-48db655011cf"
      },
      "execution_count": null,
      "outputs": [
        {
          "output_type": "stream",
          "name": "stdout",
          "text": [
            "20\n"
          ]
        }
      ]
    },
    {
      "cell_type": "code",
      "source": [
        "print(variable[0])"
      ],
      "metadata": {
        "colab": {
          "base_uri": "https://localhost:8080/"
        },
        "id": "Rju-rseitgPX",
        "outputId": "38ac05cb-6516-49ef-9147-cbbd59f67eb9"
      },
      "execution_count": null,
      "outputs": [
        {
          "output_type": "stream",
          "name": "stdout",
          "text": [
            "20\n"
          ]
        }
      ]
    },
    {
      "cell_type": "code",
      "source": [
        "# Varias operaciones\n",
        "def volumen(largo,ancho,profund):\n",
        "  return largo * ancho * profund\n"
      ],
      "metadata": {
        "id": "Jtz66Z3Wpggl"
      },
      "execution_count": null,
      "outputs": []
    },
    {
      "cell_type": "code",
      "source": [
        "resultado = volumen(10,3,3)\n",
        "resultado"
      ],
      "metadata": {
        "colab": {
          "base_uri": "https://localhost:8080/"
        },
        "id": "VNYTsqQOp3lx",
        "outputId": "b8de5065-c275-4cab-ece7-c33a8d652d8a"
      },
      "execution_count": null,
      "outputs": [
        {
          "output_type": "execute_result",
          "data": {
            "text/plain": [
              "90"
            ]
          },
          "metadata": {},
          "execution_count": 236
        }
      ]
    },
    {
      "cell_type": "markdown",
      "source": [
        "\n",
        "\n",
        "4.   UNA FUNCIÓN DENTRO DE OTRA\n",
        "\n"
      ],
      "metadata": {
        "id": "yoncVywXeSfh"
      }
    },
    {
      "cell_type": "code",
      "source": [
        "# Definir funciones de operaciones matemáticas\n",
        "def suma(a, b):\n",
        "    return a + b\n",
        "\n",
        "def resta(a, b):\n",
        "    return a - b\n",
        "\n",
        "# Definir una función que aplica una operación a dos números\n",
        "def aplicar_operacion(operacion, a, b):\n",
        "    resultado = operacion(a, b)\n",
        "    return resultado\n",
        "\n",
        "# Usar la función con diferentes operaciones\n",
        "resultado_suma = aplicar_operacion(suma, 5, 3)\n",
        "print(\"Resultado de la suma:\", resultado_suma)  # Esto imprimirá \"Resultado de la suma: 8\"\n",
        "\n",
        "resultado_resta = aplicar_operacion(resta, 10, 4)\n",
        "print(\"Resultado de la resta:\", resultado_resta)  # Esto imprimirá \"Resultado de la resta: 6\"\n"
      ],
      "metadata": {
        "colab": {
          "base_uri": "https://localhost:8080/"
        },
        "id": "k2fmgs3ReOgu",
        "outputId": "2c152e91-8954-4903-a831-c7fe2b9b07d8"
      },
      "execution_count": null,
      "outputs": [
        {
          "output_type": "stream",
          "name": "stdout",
          "text": [
            "Resultado de la suma: 8\n",
            "Resultado de la resta: 6\n"
          ]
        }
      ]
    },
    {
      "cell_type": "markdown",
      "source": [
        "5.   LISTAS Y DICCIONARIOS COMO ARGUMENTOS O PARÁMETROS"
      ],
      "metadata": {
        "id": "v37RUu2r1GXe"
      }
    },
    {
      "cell_type": "code",
      "source": [
        "my_list = [1,2,3]\n",
        "\n",
        "def suma_list(lista):\n",
        "  sum = 0\n",
        "  for i in lista:\n",
        "    sum += i\n",
        "    print(i)\n",
        "  return sum"
      ],
      "metadata": {
        "id": "Zct51qHntw7E"
      },
      "execution_count": null,
      "outputs": []
    },
    {
      "cell_type": "code",
      "source": [
        "my_dict = {\n",
        "    \"valor\" : 1,\n",
        "    \"valor2\" : 2,\n",
        "    \"valor3\" :3\n",
        "}"
      ],
      "metadata": {
        "id": "YRqglJddvrmv"
      },
      "execution_count": null,
      "outputs": []
    },
    {
      "cell_type": "code",
      "source": [
        "def suma_dict(dictionarie):\n",
        "  sum = 0\n",
        "  for i in dictionarie:\n",
        "    sum += dictionarie[i]\n",
        "  return sum"
      ],
      "metadata": {
        "id": "X3prtyM3v-BU"
      },
      "execution_count": null,
      "outputs": []
    },
    {
      "cell_type": "code",
      "source": [
        "suma_dict(my_dict)"
      ],
      "metadata": {
        "colab": {
          "base_uri": "https://localhost:8080/"
        },
        "id": "NQHzbbWTwca1",
        "outputId": "ff61816c-81bc-4687-dca8-d96570d22c9c"
      },
      "execution_count": null,
      "outputs": [
        {
          "output_type": "execute_result",
          "data": {
            "text/plain": [
              "6"
            ]
          },
          "metadata": {},
          "execution_count": 31
        }
      ]
    },
    {
      "cell_type": "markdown",
      "source": [
        "6.   PARÁMETROS INDEFINIDOS"
      ],
      "metadata": {
        "id": "eDSO1ZTR1T92"
      }
    },
    {
      "cell_type": "code",
      "source": [
        "def make_pizza(*toopings):\n",
        "  \"\"\"Print the list of toppings that have been requested.\"\"\"\n",
        "  print(toopings)\n",
        "\n",
        "make_pizza('pepperoni')\n",
        "make_pizza('mushrooms', 'green peppers', 'extra cheese')"
      ],
      "metadata": {
        "colab": {
          "base_uri": "https://localhost:8080/"
        },
        "id": "1XMEQgvZxonm",
        "outputId": "c4ad434c-e6a3-44d2-ed2e-79aef190677d"
      },
      "execution_count": null,
      "outputs": [
        {
          "output_type": "stream",
          "name": "stdout",
          "text": [
            "('pepperoni',)\n",
            "('mushrooms', 'green peppers', 'extra cheese')\n"
          ]
        }
      ]
    },
    {
      "cell_type": "code",
      "source": [
        "def suma_varios(*numeros):\n",
        "  lista =[]\n",
        "  for i in numeros:\n",
        "\n",
        "    lista.append(i)\n",
        "  return lista"
      ],
      "metadata": {
        "id": "WSsT2lVexx5i"
      },
      "execution_count": null,
      "outputs": []
    },
    {
      "cell_type": "code",
      "source": [
        "suma_varios(1,2,3)"
      ],
      "metadata": {
        "colab": {
          "base_uri": "https://localhost:8080/"
        },
        "id": "HHCcDIoQyKXq",
        "outputId": "84909070-07d0-4070-d870-cb27e58924a5"
      },
      "execution_count": null,
      "outputs": [
        {
          "output_type": "execute_result",
          "data": {
            "text/plain": [
              "[1, 2, 3]"
            ]
          },
          "metadata": {},
          "execution_count": 225
        }
      ]
    },
    {
      "cell_type": "code",
      "source": [
        "def build_profile(first, last, **user_info):\n",
        "  \"\"\"Build a dictionary containing everything we know about a user.\"\"\"\n",
        "  user_info['first_name'] = first\n",
        "  user_info['last_name'] = last\n",
        "  return user_info\n",
        "\n",
        "user_profile = build_profile('albert', 'einstein',location='princeton',field='physics',age=80)\n",
        "print(user_profile)"
      ],
      "metadata": {
        "colab": {
          "base_uri": "https://localhost:8080/"
        },
        "id": "8-zeNtJwy19C",
        "outputId": "7de0fede-9dba-45db-e374-0affd9e6b146"
      },
      "execution_count": null,
      "outputs": [
        {
          "output_type": "stream",
          "name": "stdout",
          "text": [
            "{'location': 'princeton', 'field': 'physics', 'age': 80, 'first_name': 'albert', 'last_name': 'einstein'}\n"
          ]
        }
      ]
    },
    {
      "cell_type": "code",
      "source": [
        "def imprimir_argumentos(**kwargs):\n",
        "    for clave, valor in kwargs.items():\n",
        "        print(f\"Argumento clave: {clave}, Valor: {valor}\")\n",
        "\n",
        "# Ejemplo de uso\n",
        "imprimir_argumentos(nombre=\"Juan\", edad=30, ciudad=\"Ejemploville\")"
      ],
      "metadata": {
        "colab": {
          "base_uri": "https://localhost:8080/"
        },
        "id": "IWLvCyKx3x5j",
        "outputId": "436433e9-0f23-42ea-c51b-dc4c3c49cac1"
      },
      "execution_count": null,
      "outputs": [
        {
          "output_type": "stream",
          "name": "stdout",
          "text": [
            "Argumento clave: nombre, Valor: Juan\n",
            "Argumento clave: edad, Valor: 30\n",
            "Argumento clave: ciudad, Valor: Ejemploville\n"
          ]
        }
      ]
    },
    {
      "cell_type": "markdown",
      "source": [
        "# DECORADORES 🎄🎅"
      ],
      "metadata": {
        "id": "D5yFFtpCdWjc"
      }
    },
    {
      "cell_type": "code",
      "source": [
        "def mi_decorador(funcion_original):\n",
        "    def nueva_funcion(*args):\n",
        "        print(\"Antes de ejecutar la función\")\n",
        "        funcion_original(*args)\n",
        "        print(\"Después de ejecutar la función\")\n",
        "    return nueva_funcion"
      ],
      "metadata": {
        "id": "oLqR-vgSOKfJ"
      },
      "execution_count": null,
      "outputs": []
    },
    {
      "cell_type": "code",
      "source": [
        "@mi_decorador\n",
        "def saludar(name1,name2):\n",
        "  print(f\"Hello {name1} and {name2}\")\n"
      ],
      "metadata": {
        "id": "u-uyuoZbOWp5"
      },
      "execution_count": null,
      "outputs": []
    },
    {
      "cell_type": "code",
      "source": [
        "saludar(\"camilo\",\"claudia\")"
      ],
      "metadata": {
        "colab": {
          "base_uri": "https://localhost:8080/"
        },
        "id": "xyFDNTn6OYh7",
        "outputId": "f0660b9b-f07f-4f2b-bed0-4c0cf9debbc9"
      },
      "execution_count": null,
      "outputs": [
        {
          "output_type": "stream",
          "name": "stdout",
          "text": [
            "Antes de ejecutar la función\n",
            "Hello camilo and claudia\n",
            "Después de ejecutar la función\n"
          ]
        }
      ]
    },
    {
      "cell_type": "code",
      "source": [
        "list_comprehension = [i *2  for i in range(1,11) if i % 2 == 0]\n"
      ],
      "metadata": {
        "id": "ZsewIdzw5jSX"
      },
      "execution_count": null,
      "outputs": []
    },
    {
      "cell_type": "code",
      "source": [
        "list_comprehension"
      ],
      "metadata": {
        "colab": {
          "base_uri": "https://localhost:8080/"
        },
        "id": "3RSIqgLv5tcG",
        "outputId": "b0b6d647-b1e3-471e-f54e-9e5c62259672"
      },
      "execution_count": null,
      "outputs": [
        {
          "output_type": "execute_result",
          "data": {
            "text/plain": [
              "[4, 8, 12, 16, 20]"
            ]
          },
          "metadata": {},
          "execution_count": 286
        }
      ]
    },
    {
      "cell_type": "code",
      "source": [
        "lista = []\n",
        "for j   in range(1,11):\n",
        "    j * 2\n",
        "    if j   % 2 == 0:\n",
        "      lista.append(j* 2)\n",
        "\n",
        "print(lista)\n"
      ],
      "metadata": {
        "colab": {
          "base_uri": "https://localhost:8080/"
        },
        "id": "aZkukAw68RJE",
        "outputId": "d89c1797-96b1-4183-9159-84cc9a58ab5d"
      },
      "execution_count": null,
      "outputs": [
        {
          "output_type": "stream",
          "name": "stdout",
          "text": [
            "[4, 8, 12, 16, 20]\n"
          ]
        }
      ]
    },
    {
      "cell_type": "code",
      "source": [
        "#numero = 1\n",
        "dict_comprehension = {numero : numero ** 2 for numero in range(1,11) }"
      ],
      "metadata": {
        "id": "WCmKYzMe5vid"
      },
      "execution_count": null,
      "outputs": []
    },
    {
      "cell_type": "code",
      "source": [
        "dict_comprehension"
      ],
      "metadata": {
        "colab": {
          "base_uri": "https://localhost:8080/"
        },
        "id": "xBu-VoDH6kLx",
        "outputId": "3a8a9049-d4a6-4361-d750-093e9b36c23a"
      },
      "execution_count": null,
      "outputs": [
        {
          "output_type": "execute_result",
          "data": {
            "text/plain": [
              "{1: 1, 2: 4, 3: 9, 4: 16, 5: 25, 6: 36, 7: 49, 8: 64, 9: 81, 10: 100}"
            ]
          },
          "metadata": {},
          "execution_count": 258
        }
      ]
    },
    {
      "cell_type": "markdown",
      "source": [
        "SCOPE"
      ],
      "metadata": {
        "id": "AYHPlQ4u9v0z"
      }
    },
    {
      "cell_type": "code",
      "source": [
        "price = 100  # global\n",
        "\n",
        "def incremento():\n",
        "  price = 100 # declarada al interior de la función\n",
        "  price = price + 10\n",
        "  result = price * 10 # si agregamos esta variable solo tendra contexto dentro de la función\n",
        "  print(price, result)"
      ],
      "metadata": {
        "id": "fBzdD_qH6lPV"
      },
      "execution_count": null,
      "outputs": []
    },
    {
      "cell_type": "code",
      "source": [
        "incremento()"
      ],
      "metadata": {
        "colab": {
          "base_uri": "https://localhost:8080/"
        },
        "id": "iDad9n_E9_BW",
        "outputId": "ed225afb-490d-46af-89fd-280fce1a220f"
      },
      "execution_count": null,
      "outputs": [
        {
          "output_type": "stream",
          "name": "stdout",
          "text": [
            "110 1100\n"
          ]
        }
      ]
    },
    {
      "cell_type": "markdown",
      "source": [
        "FUNCIONES LAMBDA"
      ],
      "metadata": {
        "id": "Ih9DaSjfA1zZ"
      }
    },
    {
      "cell_type": "markdown",
      "source": [
        "[texto del enlace](https://runestone.academy/ns/books/published/fopp/_images/lambda.gif)"
      ],
      "metadata": {
        "id": "aRSa6li0B0O6"
      }
    },
    {
      "cell_type": "code",
      "source": [
        "def mult(x,y):\n",
        "  return x * y\n",
        "\n",
        "mult(10,10)"
      ],
      "metadata": {
        "colab": {
          "base_uri": "https://localhost:8080/"
        },
        "id": "TmYhe9Y9Dwu8",
        "outputId": "f73b0199-cad3-44a1-8cb7-f798bef6a86e"
      },
      "execution_count": null,
      "outputs": [
        {
          "output_type": "execute_result",
          "data": {
            "text/plain": [
              "100"
            ]
          },
          "metadata": {},
          "execution_count": 321
        }
      ]
    },
    {
      "cell_type": "code",
      "source": [
        "import math\n",
        "def root_square(*x):\n",
        "  root = math.sqrt(*x)\n",
        "  return root\n",
        "\n",
        "root_square(4)"
      ],
      "metadata": {
        "colab": {
          "base_uri": "https://localhost:8080/"
        },
        "id": "SdKD_MHlIIBx",
        "outputId": "c6a6d109-fec2-4e71-fb24-2612726bd9ae"
      },
      "execution_count": null,
      "outputs": [
        {
          "output_type": "execute_result",
          "data": {
            "text/plain": [
              "2.0"
            ]
          },
          "metadata": {},
          "execution_count": 332
        }
      ]
    },
    {
      "cell_type": "code",
      "source": [
        "mult_lambda = lambda x , y : x * y\n",
        "mult_lambda(10,10)"
      ],
      "metadata": {
        "colab": {
          "base_uri": "https://localhost:8080/"
        },
        "id": "VbulH6dMA1I-",
        "outputId": "469b363f-0b91-44cb-dfdf-53ac30e3cf26"
      },
      "execution_count": null,
      "outputs": [
        {
          "output_type": "execute_result",
          "data": {
            "text/plain": [
              "100"
            ]
          },
          "metadata": {},
          "execution_count": 320
        }
      ]
    },
    {
      "cell_type": "code",
      "source": [
        "lamda_funcion = lambda x ,y, funcion :funcion( x * y )"
      ],
      "metadata": {
        "id": "lTnNeOQeGUK7"
      },
      "execution_count": null,
      "outputs": []
    },
    {
      "cell_type": "code",
      "source": [
        "lamda_funcion(10,10,root_square)"
      ],
      "metadata": {
        "colab": {
          "base_uri": "https://localhost:8080/"
        },
        "id": "GNfmpOaOKAGi",
        "outputId": "9fb48e69-7d6a-4cbf-c855-239da15e8aef"
      },
      "execution_count": null,
      "outputs": [
        {
          "output_type": "execute_result",
          "data": {
            "text/plain": [
              "10.0"
            ]
          },
          "metadata": {},
          "execution_count": 334
        }
      ]
    }
  ]
}